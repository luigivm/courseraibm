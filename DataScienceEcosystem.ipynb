{
 "cells": [
  {
   "cell_type": "markdown",
   "id": "8dd05c06-f2cf-4231-b587-b8c2496befb8",
   "metadata": {
    "tags": []
   },
   "source": [
    "# Data Science Tools and Ecosystem"
   ]
  },
  {
   "cell_type": "markdown",
   "id": "d4fc1936-3246-4158-b52a-7c1d7e744629",
   "metadata": {},
   "source": [
    "In this notebook, Data Science Tools and Ecosystem are summarized."
   ]
  },
  {
   "cell_type": "markdown",
   "id": "b46987c1-1750-4e6d-b2c4-4c161709e794",
   "metadata": {},
   "source": [
    "**Objectives:**\n",
    "* List popular languages that Data Scientists\n",
    "* List commonly used libraries used by Data Scientists\n",
    "* List Data Science Tools"
   ]
  },
  {
   "cell_type": "markdown",
   "id": "5a7359d2-33f7-4cde-a4d9-85e528f36ff4",
   "metadata": {},
   "source": [
    "Some of the popular languages that Data Scientists use are:\n",
    "1. Python\n",
    "2. R\n",
    "3. SQL"
   ]
  },
  {
   "cell_type": "markdown",
   "id": "009230b1-f8ec-413a-a103-1c4ec08c3103",
   "metadata": {},
   "source": [
    "Some of the commonly used libraries used by Data Scientists include:\n",
    "1. Numby\n",
    "2. ggplot2\n",
    "3. Pandas "
   ]
  },
  {
   "cell_type": "markdown",
   "id": "8a1abb58-d1e5-42cd-aedb-14d9ce9302bc",
   "metadata": {},
   "source": [
    "| Data Science Tools |\n",
    "| -------------|\n",
    "| Jupyter Notebooks | \n",
    "| RStudio |\n",
    "| Spyder |"
   ]
  },
  {
   "cell_type": "markdown",
   "id": "1d9f757a-e74f-46e9-96fb-884a3136d9f3",
   "metadata": {},
   "source": [
    "### Below are a few examples of evaluating arithmetic expressions in Python"
   ]
  },
  {
   "cell_type": "code",
   "execution_count": 51,
   "id": "e4fae132-b2e7-4545-a5aa-7867bd690625",
   "metadata": {},
   "outputs": [
    {
     "data": {
      "text/plain": [
       "17"
      ]
     },
     "execution_count": 51,
     "metadata": {},
     "output_type": "execute_result"
    }
   ],
   "source": [
    "# This a simple arithmetic expression to mutiply then add integers\n",
    "(3*4)+5"
   ]
  },
  {
   "cell_type": "code",
   "execution_count": 41,
   "id": "d4acc08a-111d-4347-bdb2-f55238ab3a28",
   "metadata": {},
   "outputs": [
    {
     "name": "stdout",
     "output_type": "stream",
     "text": [
      "3.3333333333333335\n"
     ]
    }
   ],
   "source": [
    "# This will convert 200 minutes to hours by diving by 60\n",
    "minutes = 200\n",
    "hours = minutes / 60\n",
    "\n",
    "print(hours)"
   ]
  },
  {
   "cell_type": "markdown",
   "id": "c4ff7ccf-b979-402f-8f99-48df944a6905",
   "metadata": {},
   "source": [
    "## Author\n",
    "Luigi Valle"
   ]
  },
  {
   "cell_type": "code",
   "execution_count": null,
   "id": "3575ff3e-e5e6-4487-aff1-0dd6e2d4457a",
   "metadata": {},
   "outputs": [],
   "source": []
  }
 ],
 "metadata": {
  "kernelspec": {
   "display_name": "anaconda-panel-2023.05-py310",
   "language": "python",
   "name": "conda-env-anaconda-panel-2023.05-py310-py"
  },
  "language_info": {
   "codemirror_mode": {
    "name": "ipython",
    "version": 3
   },
   "file_extension": ".py",
   "mimetype": "text/x-python",
   "name": "python",
   "nbconvert_exporter": "python",
   "pygments_lexer": "ipython3",
   "version": "3.11.5"
  }
 },
 "nbformat": 4,
 "nbformat_minor": 5
}
